{
 "cells": [
  {
   "cell_type": "code",
   "execution_count": 1,
   "metadata": {},
   "outputs": [],
   "source": [
    "### Review Reasoning Capability of Gemini 2 Flash Thinking \n",
    "# (But now extra context is given via Bing API) https://github.com/microsoft/bing-search-sdk-for-python\n"
   ]
  },
  {
   "cell_type": "code",
   "execution_count": 2,
   "metadata": {},
   "outputs": [],
   "source": [
    "from pprint import pprint\n",
    "import re\n",
    "import os\n",
    "from google import genai\n",
    "from google.genai import types\n",
    "from IPython.display import display, Markdown\n",
    "\n",
    "client = genai.Client(api_key=os.getenv('GEMINI_API_KEY'),http_options={'api_version':'v1alpha'})\n",
    "\n",
    "from news_search_client import NewsSearchClient\n",
    "from azure.core.credentials import AzureKeyCredential\n",
    "SUBSCRIPTION_KEY = os.getenv(\"BING_SEARCH_SUBSCRIPTION_KEY\")\n",
    "ENDPOINT = \"https://api.bing.microsoft.com\" + \"/v7.0/\"\n",
    "\n",
    "def news_search(param_query):\n",
    "    \"\"\"NewsSearch using BING API, latest 4 news description for the given query.\n",
    "    \"\"\"\n",
    "    client = NewsSearchClient(\n",
    "        endpoint=ENDPOINT, credential=AzureKeyCredential(SUBSCRIPTION_KEY)\n",
    "    )\n",
    "\n",
    "    try:\n",
    "        news_result = client.news.search(\n",
    "            query=param_query, market=\"en-us\", count=2, freshness=\"Month\",\n",
    "        )\n",
    "        if news_result.value:\n",
    "            return [n.description for n in news_result.value]\n",
    "\n",
    "    except Exception as err:\n",
    "        return []\n",
    "\n"
   ]
  },
  {
   "cell_type": "code",
   "execution_count": 3,
   "metadata": {},
   "outputs": [
    {
     "data": {
      "text/plain": [
       "['Even if the merger is off, Nissan remains keen on working with Honda in areas such as electric vehicles and software defined vehicles.',\n",
       " 'Two of Japan’s largest automakers have been in talks to combine their operations to form one of the world’s biggest car groups.']"
      ]
     },
     "execution_count": 3,
     "metadata": {},
     "output_type": "execute_result"
    }
   ],
   "source": [
    "news_search(\"Nissan Motor Co. merger\")"
   ]
  },
  {
   "cell_type": "code",
   "execution_count": 4,
   "metadata": {},
   "outputs": [
    {
     "data": {
      "text/plain": [
       "[\"The transaction was funded through a combination of the proceeds from the recent sale of TVS Holdings' real estate assets and borrowings from capital markets.\",\n",
       " 'TVS Holdings acquires 80.74% stake in Home Credit India for ₹554 crore, aiming to strengthen financial services sector.']"
      ]
     },
     "execution_count": 4,
     "metadata": {},
     "output_type": "execute_result"
    }
   ],
   "source": [
    "news_search(\"TVS Holdings Ltd acquires  Home Credit India\")"
   ]
  },
  {
   "cell_type": "code",
   "execution_count": 5,
   "metadata": {},
   "outputs": [
    {
     "data": {
      "text/markdown": [
       "Based on the information, a full acquisition of Nissan by Honda as a subsidiary appears **unfeasible and potentially unsustainable**:\n",
       "\n",
       "* **Nissan's Rejection:** Nissan is prepared to reject the offer, indicating a lack of willingness and making the acquisition highly improbable.\n",
       "* **Hostile Takeover Risk:**  Forcing a hostile takeover would be complex, costly, and likely unsustainable due to internal resistance at Nissan.\n",
       "* **Integration Challenges:**  Integrating two massive, distinct companies, especially if unwilling, poses significant integration and cultural challenges.\n",
       "* **Sustainability Concerns:**  A forced acquisition could damage morale and hinder long-term synergies, impacting sustainability for both.\n",
       "* **Collaboration Preference:** Nissan's interest in collaboration (EV/Software) suggests a different, potentially more sustainable path forward for both companies.\n",
       "\n",
       "In short, Nissan's likely rejection makes this specific acquisition structure unfeasible and raises concerns about its sustainability even if pursued forcefully. Collaboration seems a more realistic and sustainable option."
      ],
      "text/plain": [
       "<IPython.core.display.Markdown object>"
      ]
     },
     "metadata": {},
     "output_type": "display_data"
    }
   ],
   "source": [
    "\n",
    "INSTRUCTION_PROMPT = \"You are expert on M&A. Can you provide if below acquistion will be feasible ans suistanable for both companies. Pls put only important points not exceeding 10 lines?\"\n",
    "news_article = \"Nissan Motor Co. is prepared to reject an acquisition offer that would make it a subsidiary of Honda Motor Co., according to a person familiar with the matter, a move that could jeopardize talks between the two carmakers to join forces.\"\n",
    "\n",
    "tmp_contents = news_search(\"Nissan Motor Co. merger\")\n",
    "contents = []\n",
    "for content in tmp_contents:\n",
    "    contents.append(content)\n",
    "contents.append(news_article)\n",
    "\n",
    "\n",
    "response = client.models.generate_content(\n",
    "    model=\"gemini-2.0-flash-thinking-exp-01-21\",\n",
    "    contents=contents,\n",
    "    config=types.GenerateContentConfig(\n",
    "        system_instruction=INSTRUCTION_PROMPT,temperature=0.3, \n",
    "    ),\n",
    ")\n",
    "for part in response.candidates[0].content.parts:\n",
    "    display(Markdown(part.text))\n",
    "\n",
    "\n"
   ]
  },
  {
   "cell_type": "code",
   "execution_count": 6,
   "metadata": {},
   "outputs": [
    {
     "data": {
      "text/markdown": [
       "Based on the provided information, here are key points on the acquisition's feasibility and sustainability:\n",
       "\n",
       "* **Strategic Rationale:**  Acquisition aligns with TVS Holdings' goal to strengthen its financial services sector, suggesting a strategic fit.\n",
       "* **Funding Secured:**  Sale of real estate assets and borrowings indicate financial capacity to complete the deal, making it feasible.\n",
       "* **Investor Confidence:** Premji Invest's participation alongside TVS Holdings signals confidence in the acquisition's potential.\n",
       "* **Increased Debt:** Reliance on borrowings might increase TVS Holdings' debt burden, requiring careful financial management.\n",
       "* **Integration Success:**  Sustainability hinges on successful integration of Home Credit India and realizing expected synergies.\n",
       "* **Market Dynamics:**  The competitive financial services sector requires effective execution for sustained success.\n",
       "* **Home Credit India's Performance:**  Long-term sustainability depends on Home Credit India's continued performance and growth under TVS Holdings.\n",
       "* **Potential Synergies:**  Exploring and leveraging synergies between the entities will be crucial for mutual benefit.\n",
       "* **Sustainability for Home Credit India:** TVS Holdings' backing can provide stability and growth opportunities for Home Credit India.\n",
       "* **Feasible but Requires Execution:**  The acquisition appears feasible, but long-term sustainability for both depends on effective integration and navigating market challenges."
      ],
      "text/plain": [
       "<IPython.core.display.Markdown object>"
      ]
     },
     "metadata": {},
     "output_type": "display_data"
    }
   ],
   "source": [
    "news_article = \"TVS Holdings Ltd has announced the completion of the acquisition of an 80.74 per cent equity stake of Home Credit India Finance Private Ltd for ₹554 crore. The remaining 19.26 per cent of the equity stake has been purchased by Premji Invest and other associates of TVS Holdings.\"\n",
    "tmp_contents = news_search(\"TVS Holdings Ltd acquires  Home Credit India\")\n",
    "contents = []\n",
    "for content in tmp_contents:\n",
    "    contents.append(content)\n",
    "contents.append(news_article)\n",
    "\n",
    "\n",
    "response = client.models.generate_content(\n",
    "    model=\"gemini-2.0-flash-thinking-exp-01-21\",\n",
    "    contents=contents,\n",
    "    config=types.GenerateContentConfig(\n",
    "        system_instruction=INSTRUCTION_PROMPT,temperature=0.3, \n",
    "    ),\n",
    ")\n",
    "for part in response.candidates[0].content.parts:\n",
    "    display(Markdown(part.text))\n"
   ]
  }
 ],
 "metadata": {
  "kernelspec": {
   "display_name": "Python 3",
   "language": "python",
   "name": "python3"
  },
  "language_info": {
   "codemirror_mode": {
    "name": "ipython",
    "version": 3
   },
   "file_extension": ".py",
   "mimetype": "text/x-python",
   "name": "python",
   "nbconvert_exporter": "python",
   "pygments_lexer": "ipython3",
   "version": "3.12.8"
  }
 },
 "nbformat": 4,
 "nbformat_minor": 2
}
