{
 "cells": [
  {
   "cell_type": "code",
   "execution_count": 1,
   "metadata": {},
   "outputs": [],
   "source": [
    "### Review Reasoning Capability of Gemini 2 Flash Thinking\n"
   ]
  },
  {
   "cell_type": "code",
   "execution_count": 2,
   "metadata": {},
   "outputs": [],
   "source": [
    "\n",
    "from pprint import pprint\n",
    "import re\n",
    "import os\n",
    "from google import genai\n",
    "from google.genai import types\n",
    "from IPython.display import display, Markdown\n",
    "\n",
    "client = genai.Client(api_key=os.getenv('GEMINI_API_KEY'),http_options={'api_version':'v1alpha'})"
   ]
  },
  {
   "cell_type": "code",
   "execution_count": 3,
   "metadata": {},
   "outputs": [
    {
     "data": {
      "text/markdown": [
       "Based on the news, the acquisition faces significant hurdles and appears:\n",
       "\n",
       "* **Unfeasible:** Nissan's likely rejection immediately signals a major feasibility problem.  Acquisition requires agreement, and Nissan's resistance makes it unlikely to proceed in its current form.\n",
       "* **Unsustainable (if forced):**  Even if Honda were to somehow force the acquisition, Nissan's unwillingness as a subsidiary would create integration challenges and hinder synergy realization.\n",
       "* **Loss of Autonomy:**  Becoming a subsidiary is a key point of contention for Nissan, implying loss of control and brand identity, which is generally undesirable.\n",
       "* **Resistance to Integration:**  Nissan's opposition suggests a lack of strategic alignment and potential cultural clashes, making successful integration and long-term sustainability difficult.\n",
       "\n",
       "**In short:  Nissan's rejection makes this acquisition currently unfeasible and likely unsustainable for a harmonious and beneficial partnership.**"
      ],
      "text/plain": [
       "<IPython.core.display.Markdown object>"
      ]
     },
     "metadata": {},
     "output_type": "display_data"
    }
   ],
   "source": [
    "\n",
    "INSTRUCTION_PROMPT = \"You are expert on M&A. Can you provide if below acquistion will be feasible ans suistanable for both companies. Pls put only important points not exceeding 10 lines?\"\n",
    "news_article = \"Nissan Motor Co. is prepared to reject an acquisition offer that would make it a subsidiary of Honda Motor Co., according to a person familiar with the matter, a move that could jeopardize talks between the two carmakers to join forces.\"\n",
    "\n",
    "\n",
    "response = client.models.generate_content(\n",
    "    model=\"gemini-2.0-flash-thinking-exp\",\n",
    "    contents=[news_article],\n",
    "    config=types.GenerateContentConfig(\n",
    "        system_instruction=INSTRUCTION_PROMPT,temperature=0.3, \n",
    "    ),\n",
    ")\n",
    "for part in response.candidates[0].content.parts:\n",
    "    display(Markdown(part.text))\n",
    "\n"
   ]
  },
  {
   "cell_type": "code",
   "execution_count": 4,
   "metadata": {},
   "outputs": [
    {
     "data": {
      "text/markdown": [
       "This acquisition appears potentially feasible and sustainable for both companies based on these points:\n",
       "\n",
       "*   **Strategic Expansion for TVS:**  Diversifies TVS Holdings into broader consumer finance, beyond auto-focused Sundaram Finance.\n",
       "*   **Market Access for TVS:** Gains immediate access to Home Credit India's established customer base and operations in the growing Indian consumer finance market.\n",
       "*   **Financial Capacity of TVS:**  Deal size (₹554 crore) seems manageable for a group like TVS Holdings, indicating financial feasibility.\n",
       "*   **Synergy Potential:**  Possible cross-selling opportunities and leveraging TVS Group's network for Home Credit's growth.\n",
       "*   **Exit for Home Credit Group:** Provides a clean exit for Home Credit Group, achieving their strategic objectives.\n",
       "*   **Premji Invest Confidence:**  Their participation validates the deal and suggests belief in future growth potential.\n",
       "*   **Operational Integration Key:** Successful integration of operations and cultures will be crucial for long-term sustainability.\n",
       "*   **Regulatory Compliance:** Navigating Indian financial regulations is vital for sustained operations.\n",
       "*   **Competitive Landscape:**  Sustainability depends on effectively competing in the dynamic Indian consumer finance sector.\n",
       "*   **Value Creation Potential:**  If synergies are realized and integration is smooth, it can create long-term value for both entities."
      ],
      "text/plain": [
       "<IPython.core.display.Markdown object>"
      ]
     },
     "metadata": {},
     "output_type": "display_data"
    }
   ],
   "source": [
    "\n",
    "\n",
    "news_article = \"TVS Holdings Ltd has announced the completion of the acquisition of an 80.74 per cent equity stake of Home Credit India Finance Private Ltd for ₹554 crore. The remaining 19.26 per cent of the equity stake has been purchased by Premji Invest and other associates of TVS Holdings.\"\n",
    "\n",
    "\n",
    "response = client.models.generate_content(\n",
    "    model=\"gemini-2.0-flash-thinking-exp\",\n",
    "    contents=[news_article],\n",
    "    config=types.GenerateContentConfig(\n",
    "        system_instruction=INSTRUCTION_PROMPT,temperature=0.3, \n",
    "    ),\n",
    ")\n",
    "for part in response.candidates[0].content.parts:\n",
    "    display(Markdown(part.text))\n"
   ]
  }
 ],
 "metadata": {
  "kernelspec": {
   "display_name": "Python 3",
   "language": "python",
   "name": "python3"
  },
  "language_info": {
   "codemirror_mode": {
    "name": "ipython",
    "version": 3
   },
   "file_extension": ".py",
   "mimetype": "text/x-python",
   "name": "python",
   "nbconvert_exporter": "python",
   "pygments_lexer": "ipython3",
   "version": "3.12.8"
  }
 },
 "nbformat": 4,
 "nbformat_minor": 2
}
